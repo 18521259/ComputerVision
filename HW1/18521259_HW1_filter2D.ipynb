{
 "cells": [
  {
   "cell_type": "code",
   "execution_count": 4,
   "metadata": {
    "colab": {},
    "colab_type": "code",
    "id": "cbhKVe0EH8Uo"
   },
   "outputs": [],
   "source": [
    "import cv2\n",
    "import numpy as np"
   ]
  },
  {
   "cell_type": "code",
   "execution_count": 39,
   "metadata": {
    "colab": {
     "base_uri": "https://localhost:8080/",
     "height": 826
    },
    "colab_type": "code",
    "id": "tXtTGvw6dxn9",
    "outputId": "dc79ca0c-5d7f-480c-f0de-96c2646ba2d0"
   },
   "outputs": [],
   "source": [
    "kernel = np.array([[1,0,-1],\n",
    "                   [1,0,-1],\n",
    "                   [1,0,-1]])/9.0"
   ]
  },
  {
   "cell_type": "code",
   "execution_count": 40,
   "metadata": {
    "colab": {},
    "colab_type": "code",
    "id": "Ik1WK0SDcvnJ"
   },
   "outputs": [],
   "source": [
    "#Convolution\n",
    "img = cv2.imread('sample.jpg', 0)\n",
    "padded_arr = np.pad(img, 1, mode = 'constant')\n",
    "Hk, Wk = kernel.shape\n",
    "Hp, Wp = padded_arr.shape\n",
    "output_img = np.zeros(padded_arr.shape)\n",
    "for i in range (Hp-2):\n",
    "    for j in range (Wp-2): \n",
    "        output_img[i,j] = np.sum(padded_arr[i:Hk+i, j:Wk+j] * kernel)\n",
    "cv2.imshow(\"outp\", output_img[:Hp-2, :Wp-2])\n",
    "cv2.waitKey(0)\n",
    "cv2.destroyAllWindows()"
   ]
  },
  {
   "cell_type": "code",
   "execution_count": 38,
   "metadata": {},
   "outputs": [],
   "source": [
    "#Convolution\n",
    "output_img = np.zeros(padded_arr.shape)\n",
    "kernel = np.flip(kernel)\n",
    "for i in range (Hp-2):\n",
    "    for j in range (Wp-2): \n",
    "        output_img[i,j] = np.sum(padded_arr[i:Hk+i, j:Wk+j] * kernel)\n",
    "cv2.imshow(\"outp\", output_img[:Hp-2, :Wp-2])\n",
    "cv2.waitKey(0)\n",
    "cv2.destroyAllWindows()"
   ]
  },
  {
   "cell_type": "code",
   "execution_count": null,
   "metadata": {},
   "outputs": [],
   "source": []
  }
 ],
 "metadata": {
  "colab": {
   "collapsed_sections": [],
   "name": "CV.ipynb",
   "provenance": []
  },
  "kernelspec": {
   "display_name": "Python 3",
   "language": "python",
   "name": "python3"
  },
  "language_info": {
   "codemirror_mode": {
    "name": "ipython",
    "version": 3
   },
   "file_extension": ".py",
   "mimetype": "text/x-python",
   "name": "python",
   "nbconvert_exporter": "python",
   "pygments_lexer": "ipython3",
   "version": "3.7.6"
  }
 },
 "nbformat": 4,
 "nbformat_minor": 1
}
