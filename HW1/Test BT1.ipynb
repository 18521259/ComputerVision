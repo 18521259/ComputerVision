{
 "cells": [
  {
   "cell_type": "code",
   "execution_count": 2,
   "metadata": {},
   "outputs": [
    {
     "name": "stdout",
     "output_type": "stream",
     "text": [
      "[[0.8 0.5 0.3 0.6]\n",
      " [0.1 0.4 0.6 0.4]\n",
      " [0.9 0.2 0.7 0.5]\n",
      " [0.3 0.8 0.1 0.2]]\n"
     ]
    }
   ],
   "source": [
    "import cv2 as cv\n",
    "import numpy as np\n",
    "\n",
    "# img = cv.imread('still_life.bmp', 0)\n",
    "# img = cv.resize(img,(540, 675))\n",
    "# print(img)\n",
    "# print(img.shape)\n",
    "# cv.imwrite(\"still_life_gray.bmp\", img)\n",
    "\n",
    "# cv.imshow(\"sample\", img)\n",
    "# cv.waitKey(0)\n",
    "# cv.destroyAllWindows()\n",
    "\n",
    "img = np.array([[8, 5, 3, 6],\n",
    "                [1, 4, 6, 4],\n",
    "                [9, 2, 7, 5],\n",
    "                [3, 8, 1, 2]])/10\n",
    "print(img)\n",
    "# cv.imshow(\"list\", img)\n",
    "# cv.waitKey(0)\n",
    "# cv.destroyAllWindows()"
   ]
  },
  {
   "cell_type": "code",
   "execution_count": 28,
   "metadata": {},
   "outputs": [
    {
     "name": "stdout",
     "output_type": "stream",
     "text": [
      "[[3.6 3.8 4.2 4.4]\n",
      " [4.  4.5 4.2 4.7]\n",
      " [4.1 4.1 3.9 3.9]\n",
      " [4.5 4.8 3.9 4.2]]\n"
     ]
    }
   ],
   "source": [
    "kernel = np.ones((3, 3), np.float32)\n",
    "result = cv.filter2D(img, -1, kernel)\n",
    "print(result)"
   ]
  },
  {
   "cell_type": "code",
   "execution_count": 86,
   "metadata": {},
   "outputs": [
    {
     "name": "stdout",
     "output_type": "stream",
     "text": [
      "[[0.  0.  0.  0.  0.  0. ]\n",
      " [0.  0.8 0.5 0.3 0.6 0. ]\n",
      " [0.  0.1 0.4 0.6 0.4 0. ]\n",
      " [0.  0.9 0.2 0.7 0.5 0. ]\n",
      " [0.  0.3 0.8 0.1 0.2 0. ]\n",
      " [0.  0.  0.  0.  0.  0. ]]\n",
      "[[0.  0.8 0.5 0.3]\n",
      " [0.  0.1 0.4 0.6]\n",
      " [0.  0.9 0.2 0.7]]\n",
      "4\n"
     ]
    }
   ],
   "source": [
    "a = np.array([[ 1.,  1.,  1.,  1.,  1.],\n",
    "              [ 1.,  1.,  1.,  1.,  1.],\n",
    "              [ 1.,  1.,  1.,  1.,  1.]])\n",
    "a = np.pad(img, 1, mode='constant')\n",
    "print(a)\n",
    "b = a[1:4, 0:4]\n",
    "print(b)\n",
    "\n",
    "arr1 = np.ones((3, 3))\n",
    "# arr2 = np.ones((3, 3))\n",
    "# arr3 = np.sum(arr1 + arr2)\n",
    "# x = arr1.shape\n",
    "\n",
    "print(len(b[0]))\n"
   ]
  },
  {
   "cell_type": "code",
   "execution_count": 95,
   "metadata": {},
   "outputs": [
    {
     "name": "stdout",
     "output_type": "stream",
     "text": [
      "3\n",
      "3\n",
      "3\n",
      "3\n",
      "3\n",
      "3\n",
      "3\n",
      "3\n",
      "3\n",
      "3\n",
      "3\n",
      "3\n",
      "3\n",
      "3\n",
      "3\n",
      "3\n",
      "[]\n"
     ]
    }
   ],
   "source": [
    "pad_img = np.pad(img, 1, mode = 'constant')\n",
    "H, W = img.shape\n",
    "countW = 0\n",
    "countH = 0\n",
    "result = []\n",
    "row1 = []\n",
    "product = []\n",
    "row2 = []\n",
    "for i in range(0, len(img)):\n",
    "    for j in range(0, len(img)):\n",
    "        #Tích kernel và ma trận con\n",
    "        core = pad_img[i:i+3, j:j+3]\n",
    "        print(len(core[0]))\n",
    "#         for m in range(0, len(core)):\n",
    "#             for n in range(0, len(core[0])):\n",
    "#                 row2.append(core[m][n] * kernel[m][n])\n",
    "#                 print(row2)\n",
    "#                 if n == len(core[0]) - 1:\n",
    "#                     product.append(row2)\n",
    "#                     row2 = []\n",
    "#         row1.append(np.sum(product))\n",
    "#         if j == len(pad_img[0]) - 1:\n",
    "#             result.append(row1)\n",
    "#             row1 = []\n",
    "result = np.array(result)\n",
    "print(result)"
   ]
  },
  {
   "cell_type": "code",
   "execution_count": 76,
   "metadata": {},
   "outputs": [],
   "source": [
    "def CrossCorr(img, kernel):\n",
    "    pad_img = np.pad(img, 1, mode = 'constant')\n",
    "    H, W = pad_img.shape\n",
    "    result = []\n",
    "    row1 = []\n",
    "    product = []\n",
    "    row2 = []\n",
    "    for i in range(0, H):\n",
    "        for j in range(0, W):\n",
    "            #Tính tích kernel và ma trận con\n",
    "            core = pad_img[i:i+3, j:j+3]\n",
    "            for m in range(0, len(core)):\n",
    "                for n in range(0, len(core[0])):\n",
    "                    row2.append(core[m][n] * kernel[m][n])\n",
    "                    if n == len(core[0]) - 1:\n",
    "                        product.append(row2)\n",
    "                        row2 = []\n",
    "            row1.append(np.sum(product))\n",
    "            if j == W - 1:\n",
    "                result.append(row1)\n",
    "                row1 = []\n",
    "    return np.array(result)"
   ]
  },
  {
   "cell_type": "code",
   "execution_count": null,
   "metadata": {},
   "outputs": [],
   "source": []
  }
 ],
 "metadata": {
  "kernelspec": {
   "display_name": "Python 3",
   "language": "python",
   "name": "python3"
  },
  "language_info": {
   "codemirror_mode": {
    "name": "ipython",
    "version": 3
   },
   "file_extension": ".py",
   "mimetype": "text/x-python",
   "name": "python",
   "nbconvert_exporter": "python",
   "pygments_lexer": "ipython3",
   "version": "3.7.6"
  }
 },
 "nbformat": 4,
 "nbformat_minor": 4
}
