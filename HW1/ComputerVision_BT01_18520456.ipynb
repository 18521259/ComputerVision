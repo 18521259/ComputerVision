{
 "cells": [
  {
   "cell_type": "code",
   "execution_count": 12,
   "metadata": {
    "colab": {},
    "colab_type": "code",
    "id": "cbhKVe0EH8Uo"
   },
   "outputs": [],
   "source": [
    "import cv2\n",
    "import numpy as np\n",
    "# from google.colab.patches import cv2_imshow"
   ]
  },
  {
   "cell_type": "code",
   "execution_count": 13,
   "metadata": {
    "colab": {},
    "colab_type": "code",
    "id": "Ik1WK0SDcvnJ"
   },
   "outputs": [],
   "source": [
    "def image_processing(image, kernel, MulConv = 'Conv'):\n",
    "    img = cv2.imread(image, 0)\n",
    "    padded_arr = np.pad(img, 1, mode = 'constant')\n",
    "    H_f, W_f = kernel.shape\n",
    "    H_pad, W_pad = padded_arr.shape\n",
    "    output_img = np.zeros(padded_arr.shape)\n",
    "    if MulConv == 'Cross':\n",
    "        kernel = np.flip(kernel)\n",
    "    for i in range (H_pad - 2):\n",
    "        for j in range (W_pad - 2): \n",
    "            output_img[i,j] = np.sum(padded_arr[i:H_f+i,j:W_f+j]*kernel)\n",
    "    cv2.imshow(\"outp\", output_img[0:H_pad-2,0:W_pad-2])\n",
    "    cv2.waitKey(0)\n",
    "    cv2.destroyAllWindows()"
   ]
  },
  {
   "cell_type": "code",
   "execution_count": 14,
   "metadata": {
    "colab": {
     "base_uri": "https://localhost:8080/",
     "height": 826
    },
    "colab_type": "code",
    "id": "tXtTGvw6dxn9",
    "outputId": "dc79ca0c-5d7f-480c-f0de-96c2646ba2d0"
   },
   "outputs": [],
   "source": [
    "filterX = np.array([[1,0,-1],[2,0,-2],[1,0,-1]])\n",
    "img_path = 'sample.jpg'\n",
    "MulConv = 'Cross' # Cross or Conv\n",
    "image_processing(img_path, filterX, MulConv )"
   ]
  },
  {
   "cell_type": "code",
   "execution_count": null,
   "metadata": {},
   "outputs": [],
   "source": []
  }
 ],
 "metadata": {
  "colab": {
   "collapsed_sections": [],
   "name": "CV.ipynb",
   "provenance": []
  },
  "kernelspec": {
   "display_name": "Python 3",
   "language": "python",
   "name": "python3"
  },
  "language_info": {
   "codemirror_mode": {
    "name": "ipython",
    "version": 3
   },
   "file_extension": ".py",
   "mimetype": "text/x-python",
   "name": "python",
   "nbconvert_exporter": "python",
   "pygments_lexer": "ipython3",
   "version": "3.7.6"
  }
 },
 "nbformat": 4,
 "nbformat_minor": 1
}
